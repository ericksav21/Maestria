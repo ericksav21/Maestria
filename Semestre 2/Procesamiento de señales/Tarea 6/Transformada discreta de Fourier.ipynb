{
 "cells": [
  {
   "cell_type": "markdown",
   "metadata": {},
   "source": [
    "Alumno: Erick Salvador Alvarez Valencia"
   ]
  },
  {
   "cell_type": "markdown",
   "metadata": {},
   "source": [
    "## Demostrar la ortogonalidad de la transformada de Fourier para señales en 2D"
   ]
  },
  {
   "cell_type": "markdown",
   "metadata": {},
   "source": [
    "Tenemos un conjunto de señales armónicas relacionadas entre sí en un periodo de $N$ muestras: $$S_{n, m} = \\{S_{n, m}^0, S_{n, m}^1, ..., S_{n, m}^{N - 1}\\}$$\n",
    "\n",
    "Para verificar la ortogonalidad de esos componentes realizamos el producto punto con los vectores:\n",
    "\n",
    "$$<\\vec{S_{m, n}}, \\vec{S_{k, l}}> = \\sum_{x = 0}^{N - 1} \\sum_{y = 0}^{M - 1} S_{m, n}^{x, y} S_{k, l}^{x, y}$$\n",
    "$$<\\vec{S_{m, n}}, \\vec{S_{k, l}}> = \\sum_{x = 0}^{N - 1} \\sum_{y = 0}^{M - 1} e^{-i2 \\pi (\\frac{nx}{N} + \\frac{my}{M})} e^{i2 \\pi (\\frac{lx}{N} + \\frac{kl}{M})}$$\n",
    "$$<\\vec{S_{m, n}}, \\vec{S_{k, l}}> = \\sum_{x = 0}^{N - 1} \\sum_{y = 0}^{M - 1} e^{i2 \\pi (-\\frac{nx}{N} - \\frac{my}{M} - \\frac{xl}{N} - \\frac{ky}{M})}$$\n",
    "$$<\\vec{S_{m, n}}, \\vec{S_{k, l}}> = \\sum_{x = 0}^{N - 1} \\sum_{y = 0}^{M - 1} e^{i2 \\pi (\\frac{x (l - n)}{N})} e^{i2 \\pi (\\frac{y (k - m)}{M})}$$\n",
    "$$<\\vec{S_{m, n}}, \\vec{S_{k, l}}> = \\sum_{x = 0}^{N - 1} e^{i2 \\pi (\\frac{x (l - n)}{N})} \\sum_{y = 0}^{M - 1} e^{i2 \\pi (\\frac{y (k - m)}{M})}$$\n",
    "\n",
    "Hemos separado el producto anterior en un producto de sumas donde la primera depende sólo de $x$ y la segunda sólo de $y$. Ahora, tratamos estas sumas como series geométricas para ayudarnos a verificar la ortogonalidad.\n",
    "\n",
    "$$\\sum_{x = 0}^{N - 1} e^{i2 \\pi (\\frac{x (l - n)}{N})} \\sum_{y = 0}^{M - 1} e^{i2 \\pi (\\frac{y (k - m)}{M})} = \\frac{1 - a^N}{1 - a} \\frac{1 - a^M}{1 - a}$$\n",
    "$$\\frac{1 - a^N}{1 - a} \\frac{1 - a^M}{1 - a} = \\frac{1 - e^{\\frac{i2 \\pi (l - n) N}{N}}}{1 - e^{\\frac{i2 \\pi (l - n)}{N}}} \\frac{1 - e^{\\frac{i2 \\pi (k - m) M}{M}}}{1 - e^{\\frac{i2 \\pi (k - m)}{M}}} = \\frac{1 - e^{i2 \\pi (l - n)}}{1 - e^{\\frac{i2 \\pi (l - n)}{N}}} \\frac{1 - e^{i2 \\pi (k - m)}}{1 - e^{\\frac{i2 \\pi (k - m)}{M}}}$$\n",
    "\n",
    "Del producto anterior podemos ver que tanto $e^{i2 \\pi (l - n)}$ como $e^{i2 \\pi (k - m)}$ se convierten en 1 por la identidad de Euler, y por lo tanto todo el producto se convierte en cero.\n",
    "\n",
    "Para el caso donde los pares (\\{m, n\\}) = (\\{k, l\\}) son iguales, vemos el producto interno definido anteriormente se convierte en la norma al cuadrado de dichos vectores.\n",
    "\n",
    "$$<\\vec{S_{m, n}}, \\vec{S_{m, n}}> = ||\\vec{S^{x, y}}||_2^2 = \\sum_{x = 0}^{N - 1} \\sum_{y = 0}^{M - 1} e^{i2 \\pi (\\frac{x (n - n)}{N})} e^{i2 \\pi (\\frac{y (m - m)}{M})} = MN$$\n",
    "\n",
    "Ahora, una vez que hemos demostrado la ortogonalidad de los conjuntos anteriores podemos definir la transformada discreta de Fourier para encontrar los coeficientes:\n",
    "\n",
    "$$C_{n, m} = \\frac{<\\vec{f}, \\vec{S^{x, y}}>}{||\\vec{S^{x, y}}||_2^2} = \\frac{\\sum_{x = 0}^{N - 1} \\sum_{y = 0}^{M - 1} f(x, y) e^{-i2 \\pi (\\frac{nx}{N} + \\frac{my}{M})}}{M N}$$\n",
    "\n",
    "Definimos $\\vec{C} = ((C_{0, 0}, C_{0, 1}, ..., (C_{0, N - 1}), C_{1, 0}, C_{1, 1}, C_{1, N - 1}), ..., (C_{M - 1, 0}, C_{M - 1, 1}, ..., C_{M - 1, N - 1}))$ como la matriz de coeficientes obtenidos con la transformada de Fourier.\n",
    "\n",
    "De la misma forma podemos definir la transformada inversa de Fourier en dos dimensiones para el caso discreto como:\n",
    "$$f(x, y) = \\sum_{x = 0}^{N - 1} \\sum_{y = 0}^{M - 1} C_{x, y} e^{i2 \\pi (\\frac{nx}{N} + \\frac{my}{M})}$$"
   ]
  },
  {
   "cell_type": "markdown",
   "metadata": {},
   "source": [
    "Ahora, se hará la programación de la transformada y la transformada inversa de Fourier para una imagen."
   ]
  },
  {
   "cell_type": "code",
   "execution_count": 1,
   "metadata": {},
   "outputs": [
    {
     "name": "stdout",
     "output_type": "stream",
     "text": [
      "(32, 32)\n"
     ]
    },
    {
     "data": {
      "image/png": "[encoded data removed]",
      "text/plain": [
       "<matplotlib.figure.Figure at 0x7f70bd0a4ba8>"
      ]
     },
     "metadata": {},
     "output_type": "display_data"
    }
   ],
   "source": [
    "from math import *\n",
    "import numpy as np\n",
    "import skimage\n",
    "from skimage import data\n",
    "import matplotlib.pyplot as plt\n",
    "import matplotlib.cm as cm\n",
    "from skimage.transform import resize\n",
    "from skimage.color import rgb2gray\n",
    "\n",
    "%matplotlib inline\n",
    "cat = data.chelsea()\n",
    "cat = resize(cat, (32, 32), mode='reflect')\n",
    "cat = rgb2gray(cat)\n",
    "plt.imshow(cat, cmap = \"gray\")\n",
    "print(cat.shape)"
   ]
  },
  {
   "cell_type": "code",
   "execution_count": 6,
   "metadata": {},
   "outputs": [
    {
     "name": "stderr",
     "output_type": "stream",
     "text": [
      "/home/e-082017-04/anaconda3/lib/python3.6/site-packages/ipykernel_launcher.py:16: ComplexWarning: Casting complex values to real discards the imaginary part\n",
      "  app.launch_new_instance()\n"
     ]
    },
    {
     "name": "stdout",
     "output_type": "stream",
     "text": [
      "[[ 0.46019839  0.00453251 -0.00621069 ..., -0.00621069  0.00453251  0.        ]\n",
      " [ 0.01804593  0.00627451 -0.00520855 ..., -0.00334076 -0.00173642  0.        ]\n",
      " [-0.00928098 -0.01504823 -0.00297526 ..., -0.00335746  0.00224628  0.        ]\n",
      " ..., \n",
      " [-0.00928098  0.00224628 -0.00335746 ..., -0.00297526 -0.01504823  0.        ]\n",
      " [ 0.01804593 -0.00173642 -0.00334076 ..., -0.00520855  0.00627451  0.        ]\n",
      " [ 0.          0.          0.         ...,  0.          0.          0.        ]]\n"
     ]
    }
   ],
   "source": [
    "def coef(img, n, m):\n",
    "    M = img.shape[0]\n",
    "    N = img.shape[1]\n",
    "    res = 0.0\n",
    "    for y in range(M):\n",
    "        for x in range(N):\n",
    "            res += img[y][x] * np.exp(-2j * np.pi * ((float(n * x) / float(N)) + (float(m * y) / float(M))))\n",
    "            \n",
    "    res /= float(M * N)\n",
    "    return res\n",
    "\n",
    "def compute_coef(img, n, m, do_plot = True):\n",
    "    res = np.zeros((n + 1, m + 1), dtype = 'float')\n",
    "    for ni in range(n):\n",
    "        for mj in range(m):\n",
    "            res[ni][mj] = coef(img, ni, mj)\n",
    "    \n",
    "    if not do_plot:\n",
    "        return res\n",
    "    \n",
    "    M = img.shape[0]\n",
    "    N = img.shape[1]\n",
    "    \n",
    "    for i in range(1, n + 1):\n",
    "        for j in range(1, m + 1):\n",
    "            img_aux = np.zeros(img.shape, dtype = 'float')\n",
    "            c = res[i][j]\n",
    "            \n",
    "            for y in range(M):\n",
    "                for x in range(N):\n",
    "                    img_aux[y][x] += c * np.exp(2j * np.pi * ((float(i * x) / float(N)) + (float(j * y) / float(M))))\n",
    "            \n",
    "            plt.imshow(img_aux, cmap = \"gray\")\n",
    "            plt.show()\n",
    "            \n",
    "    return res\n",
    "\n",
    "def inverse_transform(c_coef, n, m, M, N):\n",
    "    res = np.zeros((M, N), dtype = 'float')\n",
    "    \n",
    "    for i in range(1, n + 1):\n",
    "        for j in range(1, m + 1):\n",
    "            img_aux = np.zeros((M, N), dtype = 'float')\n",
    "            c = c_coef[i][j]\n",
    "            \n",
    "            for y in range(M):\n",
    "                for x in range(N):\n",
    "                    img_aux[y][x] += c * np.exp(2j * np.pi * ((float(i * x) / float(N)) + (float(j * y) / float(M))))\n",
    "                    \n",
    "            res += img_aux\n",
    "            \n",
    "    return res\n",
    "\n",
    "c_coef = compute_coef(cat, 32, 32, False)\n",
    "print(c_coef)"
   ]
  },
  {
   "cell_type": "code",
   "execution_count": 5,
   "metadata": {},
   "outputs": [
    {
     "name": "stderr",
     "output_type": "stream",
     "text": [
      "/home/e-082017-04/anaconda3/lib/python3.6/site-packages/ipykernel_launcher.py:48: ComplexWarning: Casting complex values to real discards the imaginary part\n"
     ]
    },
    {
     "ename": "IndexError",
     "evalue": "index 32 is out of bounds for axis 0 with size 32",
     "output_type": "error",
     "traceback": [
      "\u001b[0;31m---------------------------------------------------------------------------\u001b[0m",
      "\u001b[0;31mIndexError\u001b[0m                                Traceback (most recent call last)",
      "\u001b[0;32m<ipython-input-5-e2c14c5106c5>\u001b[0m in \u001b[0;36m<module>\u001b[0;34m()\u001b[0m\n\u001b[0;32m----> 1\u001b[0;31m \u001b[0mreconstructed_img\u001b[0m \u001b[0;34m=\u001b[0m \u001b[0minverse_transform\u001b[0m\u001b[0;34m(\u001b[0m\u001b[0mc_coef\u001b[0m\u001b[0;34m,\u001b[0m \u001b[0;36m32\u001b[0m\u001b[0;34m,\u001b[0m \u001b[0;36m32\u001b[0m\u001b[0;34m,\u001b[0m \u001b[0mcat\u001b[0m\u001b[0;34m.\u001b[0m\u001b[0mshape\u001b[0m\u001b[0;34m[\u001b[0m\u001b[0;36m0\u001b[0m\u001b[0;34m]\u001b[0m\u001b[0;34m,\u001b[0m \u001b[0mcat\u001b[0m\u001b[0;34m.\u001b[0m\u001b[0mshape\u001b[0m\u001b[0;34m[\u001b[0m\u001b[0;36m1\u001b[0m\u001b[0;34m]\u001b[0m\u001b[0;34m)\u001b[0m\u001b[0;34m\u001b[0m\u001b[0m\n\u001b[0m\u001b[1;32m      2\u001b[0m \u001b[0mplt\u001b[0m\u001b[0;34m.\u001b[0m\u001b[0mimshow\u001b[0m\u001b[0;34m(\u001b[0m\u001b[0mreconstructed_img\u001b[0m\u001b[0;34m,\u001b[0m \u001b[0mcmap\u001b[0m \u001b[0;34m=\u001b[0m \u001b[0;34m\"gray\"\u001b[0m\u001b[0;34m)\u001b[0m\u001b[0;34m\u001b[0m\u001b[0m\n",
      "\u001b[0;32m<ipython-input-4-bd78f4cd9675>\u001b[0m in \u001b[0;36minverse_transform\u001b[0;34m(c_coef, n, m, M, N)\u001b[0m\n\u001b[1;32m     42\u001b[0m         \u001b[0;32mfor\u001b[0m \u001b[0mj\u001b[0m \u001b[0;32min\u001b[0m \u001b[0mrange\u001b[0m\u001b[0;34m(\u001b[0m\u001b[0;36m1\u001b[0m\u001b[0;34m,\u001b[0m \u001b[0mm\u001b[0m \u001b[0;34m+\u001b[0m \u001b[0;36m1\u001b[0m\u001b[0;34m)\u001b[0m\u001b[0;34m:\u001b[0m\u001b[0;34m\u001b[0m\u001b[0m\n\u001b[1;32m     43\u001b[0m             \u001b[0mimg_aux\u001b[0m \u001b[0;34m=\u001b[0m \u001b[0mnp\u001b[0m\u001b[0;34m.\u001b[0m\u001b[0mzeros\u001b[0m\u001b[0;34m(\u001b[0m\u001b[0;34m(\u001b[0m\u001b[0mM\u001b[0m\u001b[0;34m,\u001b[0m \u001b[0mN\u001b[0m\u001b[0;34m)\u001b[0m\u001b[0;34m,\u001b[0m \u001b[0mdtype\u001b[0m \u001b[0;34m=\u001b[0m \u001b[0;34m'float'\u001b[0m\u001b[0;34m)\u001b[0m\u001b[0;34m\u001b[0m\u001b[0m\n\u001b[0;32m---> 44\u001b[0;31m             \u001b[0mc\u001b[0m \u001b[0;34m=\u001b[0m \u001b[0mc_coef\u001b[0m\u001b[0;34m[\u001b[0m\u001b[0mi\u001b[0m\u001b[0;34m]\u001b[0m\u001b[0;34m[\u001b[0m\u001b[0mj\u001b[0m\u001b[0;34m]\u001b[0m\u001b[0;34m\u001b[0m\u001b[0m\n\u001b[0m\u001b[1;32m     45\u001b[0m \u001b[0;34m\u001b[0m\u001b[0m\n\u001b[1;32m     46\u001b[0m             \u001b[0;32mfor\u001b[0m \u001b[0my\u001b[0m \u001b[0;32min\u001b[0m \u001b[0mrange\u001b[0m\u001b[0;34m(\u001b[0m\u001b[0mM\u001b[0m\u001b[0;34m)\u001b[0m\u001b[0;34m:\u001b[0m\u001b[0;34m\u001b[0m\u001b[0m\n",
      "\u001b[0;31mIndexError\u001b[0m: index 32 is out of bounds for axis 0 with size 32"
     ]
    }
   ],
   "source": [
    "reconstructed_img = inverse_transform(c_coef, 32, 32, cat.shape[0], cat.shape[1])\n",
    "plt.imshow(reconstructed_img, cmap = \"gray\")"
   ]
  },
  {
   "cell_type": "code",
   "execution_count": null,
   "metadata": {
    "collapsed": true
   },
   "outputs": [],
   "source": []
  }
 ],
 "metadata": {
  "kernelspec": {
   "display_name": "Python 3",
   "language": "python",
   "name": "python3"
  },
  "language_info": {
   "codemirror_mode": {
    "name": "ipython",
    "version": 3
   },
   "file_extension": ".py",
   "mimetype": "text/x-python",
   "name": "python",
   "nbconvert_exporter": "python",
   "pygments_lexer": "ipython3",
   "version": "3.6.3"
  }
 },
 "nbformat": 4,
 "nbformat_minor": 2
}
