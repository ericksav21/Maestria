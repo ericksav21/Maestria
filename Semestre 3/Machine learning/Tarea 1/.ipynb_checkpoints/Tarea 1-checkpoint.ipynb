{
 "cells": [
  {
   "cell_type": "markdown",
   "metadata": {},
   "source": [
    "## Erick Salvador Alvarez Valencia"
   ]
  },
  {
   "cell_type": "code",
   "execution_count": 79,
   "metadata": {},
   "outputs": [],
   "source": [
    "import numpy as np\n",
    "from numpy import linalg as LA\n",
    "from matplotlib import pyplot as plt"
   ]
  },
  {
   "cell_type": "markdown",
   "metadata": {},
   "source": [
    "## Ejercicio 1"
   ]
  },
  {
   "cell_type": "markdown",
   "metadata": {},
   "source": [
    "En Python, considere una lista de listas (un arreglo bidimensional). Por ejemplo:"
   ]
  },
  {
   "cell_type": "code",
   "execution_count": 76,
   "metadata": {},
   "outputs": [],
   "source": [
    "A = [[1, 2, 3, 4], [5, 6, 7, 8], [9, 10, 11, 12], [13, 14, 15, 16]]"
   ]
  },
  {
   "cell_type": "markdown",
   "metadata": {},
   "source": [
    "Utilizando sólo listas (esto es, sin usar numpy), calcule la matriz transpuesta $A^T$:"
   ]
  },
  {
   "cell_type": "markdown",
   "metadata": {},
   "source": [
    "a) Usando ciclos for"
   ]
  },
  {
   "cell_type": "code",
   "execution_count": 77,
   "metadata": {},
   "outputs": [
    {
     "name": "stdout",
     "output_type": "stream",
     "text": [
      "[[1, 5, 9, 13], [2, 6, 10, 14], [3, 7, 11, 15], [4, 8, 12, 16]]\n"
     ]
    }
   ],
   "source": [
    "rows = len(A)\n",
    "cols = len(A[0])\n",
    "\n",
    "T = []\n",
    "for j in range(cols):\n",
    "    aux = []\n",
    "    for i in range(rows):\n",
    "        aux.append(A[i][j])\n",
    "    T.append(aux)\n",
    "\n",
    "print(T)"
   ]
  },
  {
   "cell_type": "markdown",
   "metadata": {},
   "source": [
    "b) usando list comprehension."
   ]
  },
  {
   "cell_type": "code",
   "execution_count": 78,
   "metadata": {},
   "outputs": [
    {
     "name": "stdout",
     "output_type": "stream",
     "text": [
      "[[1, 5, 9, 13], [2, 6, 10, 14], [3, 7, 11, 15], [4, 8, 12, 16]]\n"
     ]
    }
   ],
   "source": [
    "rows = len(A)\n",
    "cols = len(A[0])\n",
    "\n",
    "T = [list(i) for i in zip(*A)]\n",
    "print(T)"
   ]
  },
  {
   "cell_type": "markdown",
   "metadata": {},
   "source": [
    "## Ejercicio 2"
   ]
  },
  {
   "cell_type": "markdown",
   "metadata": {},
   "source": [
    "Se quiere generar números aleatorios con distribución normal $N(\\mu, \\sigma)$. Una forma de lograr esto es generar $n$ variables aleatorias $X_1, X_2, . . . , X_n$ i.i.d., cada una con distribución uniforme $U$ en un intervalo $[a, b]$, y luego estudiar la distribución de la suma. $$Y = X_1 + X_2 + . . . + X_n.$$\n",
    "Cuando n toma valores muy grandes (n $\\rightarrow$ $\\infty$), la distribución de $Y$ converge a una distribución normal (¿por qué?)."
   ]
  },
  {
   "cell_type": "markdown",
   "metadata": {},
   "source": [
    "$\\textbf{R:}$ Se tiene que por el teorema de límite central (T.L.C.) la suma de $n$ de variables aleatorias independientes y con varianza no nula se aproximará a una distribución normal cuando $n$ sea lo suficientemente grande."
   ]
  },
  {
   "cell_type": "markdown",
   "metadata": {},
   "source": [
    "a) Elabore una función que genere $n$ muestras de $N$ números aleatorios con distribución uniforme $U$ sobre un intervalo $[a, b]$. Utilice $n$, $N$ y $[a, b]$ como parámetros de su función. (Cada una de estas muestras corresponde a una variable aleatoria $X_i$, 1 $\\leq$ i $\\leq$ n).\n",
    "Luego, construya la distribución de la suma $Y = \\sum_{i = 1}^n X_i$. Explore resultados con $n$ = 1, 2, 3, 5, 10 y 100. Tome N $\\geq$ 104. Grafique las distribuciones obtenidas usando histogramas. Elija un intervalo y un número de bins apropiado para sus gráficas."
   ]
  },
  {
   "cell_type": "code",
   "execution_count": 82,
   "metadata": {},
   "outputs": [],
   "source": [
    "def generateDist(n, N, a, b):\n",
    "    res = np.zeros((n, N), dtype = np.float32)\n",
    "    for i in range(n):\n",
    "        res[i] = np.random.uniform(a, b, N)\n",
    "    \n",
    "    return res"
   ]
  },
  {
   "cell_type": "code",
   "execution_count": 101,
   "metadata": {},
   "outputs": [],
   "source": [
    "N = 1500\n",
    "a, b = -10, 10\n",
    "\n",
    "vArr1 = generateDist(1, N, a, b)\n",
    "nG1 = np.sum(vArr1, axis = 0)\n",
    "\n",
    "vArr2 = generateDist(2, N, a, b)\n",
    "nG2 = np.sum(vArr2, axis = 0)\n",
    "\n",
    "vArr3 = generateDist(3, N, a, b)\n",
    "nG3 = np.sum(vArr3, axis = 0)\n",
    "\n",
    "vArr5 = generateDist(5, N, a, b)\n",
    "nG5 = np.sum(vArr5, axis = 0)\n",
    "\n",
    "vArr10 = generateDist(10, N, a, b)\n",
    "nG10 = np.sum(vArr10, axis = 0)\n",
    "\n",
    "vArr100 = generateDist(100, N, a, b)\n",
    "nG100 = np.sum(vArr100, axis = 0)"
   ]
  },
  {
   "cell_type": "code",
   "execution_count": 102,
   "metadata": {},
   "outputs": [
    {
     "data": {
      "text/plain": [
       "(array([  1.,   1.,   1.,   1.,   2.,   4.,  14.,  17.,  33.,  43.,  61.,\n",
       "         78., 101., 107., 126., 138., 138., 124., 123., 121.,  89.,  60.,\n",
       "         42.,  24.,  26.,  13.,   6.,   3.,   3.]),\n",
       " array([-2.22254578e+02, -2.08363592e+02, -1.94472606e+02, -1.80581620e+02,\n",
       "        -1.66690634e+02, -1.52799648e+02, -1.38908662e+02, -1.25017676e+02,\n",
       "        -1.11126690e+02, -9.72357041e+01, -8.33447181e+01, -6.94537322e+01,\n",
       "        -5.55627462e+01, -4.16717603e+01, -2.77807743e+01, -1.38897884e+01,\n",
       "         1.19755186e-03,  1.38921835e+01,  2.77831695e+01,  4.16741554e+01,\n",
       "         5.55651413e+01,  6.94561273e+01,  8.33471132e+01,  9.72380992e+01,\n",
       "         1.11129085e+02,  1.25020071e+02,  1.38911057e+02,  1.52802043e+02,\n",
       "         1.66693029e+02,  1.80584015e+02]),\n",
       " <a list of 29 Patch objects>)"
      ]
     },
     "execution_count": 102,
     "metadata": {},
     "output_type": "execute_result"
    },
    {
     "data": {
      "image/png": "[encoded data removed]",
      "text/plain": [
       "<Figure size 1080x360 with 2 Axes>"
      ]
     },
     "metadata": {
      "needs_background": "light"
     },
     "output_type": "display_data"
    },
    {
     "data": {
      "image/png": "[encoded data removed]",
      "text/plain": [
       "<Figure size 1080x360 with 2 Axes>"
      ]
     },
     "metadata": {
      "needs_background": "light"
     },
     "output_type": "display_data"
    },
    {
     "data": {
      "image/png": "[encoded data removed]",
      "text/plain": [
       "<Figure size 1080x360 with 2 Axes>"
      ]
     },
     "metadata": {
      "needs_background": "light"
     },
     "output_type": "display_data"
    }
   ],
   "source": [
    "fig1 = plt.figure(figsize = (15, 5))\n",
    "fig2 = plt.figure(figsize = (15, 5))\n",
    "fig3 = plt.figure(figsize = (15, 5))\n",
    "ax1 = fig1.add_subplot(1, 2, 1)\n",
    "ax2 = fig1.add_subplot(1, 2, 2)\n",
    "iax1 = fig2.add_subplot(1, 2, 1)\n",
    "iax2 = fig2.add_subplot(1, 2, 2)\n",
    "cax1 = fig3.add_subplot(1, 2, 1)\n",
    "cax2 = fig3.add_subplot(1, 2, 2)\n",
    "\n",
    "ax1.hist(nG1, bins = 'auto')\n",
    "ax2.hist(nG2, bins = 'auto')\n",
    "iax1.hist(nG3, bins = 'auto')\n",
    "iax2.hist(nG5, bins = 'auto')\n",
    "cax1.hist(nG10, bins = 'auto')\n",
    "cax2.hist(nG100, bins = 'auto')"
   ]
  },
  {
   "cell_type": "markdown",
   "metadata": {},
   "source": [
    "b) ¿Cuál es la media $\\mu$ y la varianza $\\sigma^2$ de la distribución de $Y$?"
   ]
  },
  {
   "cell_type": "markdown",
   "metadata": {},
   "source": [
    "$$E[Y] = E[\\sum_{i = 1}^n X_i]$$\n",
    "$$E[Y] = \\sum_{i = 1}^n E[X_i]$$"
   ]
  },
  {
   "cell_type": "markdown",
   "metadata": {},
   "source": [
    "Como cada $X_i$ es idénticamente distribuida entonces se tiene que las $X_i$ tienen la misma media, además $X_i \\sim U[a, b]$ entonces $E[X_i] = \\frac{a + b}{2}$"
   ]
  },
  {
   "cell_type": "markdown",
   "metadata": {},
   "source": [
    "Por lo que nos queda: $$E[Y] = \\sum_{i = 1}^n \\frac{a + b}{2} = \\frac{n (a + b)}{2}$$"
   ]
  },
  {
   "cell_type": "markdown",
   "metadata": {},
   "source": [
    "Se hace lo mismo para la varianza: $$Var(Y) = Var(\\sum_{i = 1}^n X_i)$$"
   ]
  },
  {
   "cell_type": "markdown",
   "metadata": {},
   "source": [
    "La varianza de una suma es la suma de las varianzas si las variables aleatorias son independientes, lo cual es el presente caso."
   ]
  },
  {
   "cell_type": "markdown",
   "metadata": {},
   "source": [
    "$$Var(Y) = \\sum_{i = 1}^n Var(X_i)$$"
   ]
  },
  {
   "cell_type": "markdown",
   "metadata": {},
   "source": [
    "Como $X_i \\sim U[a, b]$ entonces $Var(X_i) = \\frac{(b - a)^2}{12}$, finalmente se tiene que: $$Var(Y) = \\sum_{i = 1}^n Var(X_i) = \\sum_{i = 1}^n \\frac{(b - a)^2}{12} = \\frac{n (b - a)^2}{12}$$"
   ]
  },
  {
   "cell_type": "markdown",
   "metadata": {},
   "source": [
    "c) De lo anterior, explique cómo hacer para generar números aleatorios que simulen una distribució normal $N(\\mu, \\sigma)$ con $\\mu$ y $\\sigma$ dadas? Genere números aleatorios con distribución normal $N(\\mu, \\sigma)$, con $\\mu = 0$, $\\sigma = 1$, y con $\\mu = 10$, $\\sigma = 3$. Grafique sus distribuciones obtenidas y muestre los valores $\\mu$, $\\sigma$ obtenidos en su simulación."
   ]
  },
  {
   "cell_type": "markdown",
   "metadata": {},
   "source": [
    "Usando las ecuaciones anteriores y asumiendo que $n$ es lo suficientemente grande podemos despejar tanto a $a$ como a $b$ resolviendo un sistema de ecuaciones, las fórmulas para dichos términos son: $$a = \\frac{\\mu}{n} - \\sqrt{\\frac{3 \\sigma^2}{n}}$$ $$b = \\frac{\\mu}{n} + \\sqrt{\\frac{3 \\sigma^2}{n}}$$"
   ]
  },
  {
   "cell_type": "code",
   "execution_count": 112,
   "metadata": {},
   "outputs": [],
   "source": [
    "def generateDist2(n, N, mu, sigma):\n",
    "    a = mu / float(n) - np.sqrt(3.0 * sigma / float(n))\n",
    "    b = mu / float(n) + np.sqrt(3.0 * sigma / float(n))\n",
    "    \n",
    "    res = np.zeros((n, N), dtype = np.float32)\n",
    "    for i in range(n):\n",
    "        res[i] = np.random.uniform(a, b, N)\n",
    "    \n",
    "    return res"
   ]
  },
  {
   "cell_type": "code",
   "execution_count": 121,
   "metadata": {},
   "outputs": [],
   "source": [
    "mu, sigma = 0.0, 1.0\n",
    "N = 3500\n",
    "n = 1000\n",
    "\n",
    "dist1 = generateDist2(n, N, mu, sigma)\n",
    "nG1 = np.sum(dist1, axis = 0)\n",
    "\n",
    "mu, sigma = 10.0, 3.0\n",
    "dist2 = generateDist2(n, N, mu, sigma)\n",
    "nG2 = np.sum(dist2, axis = 0)"
   ]
  },
  {
   "cell_type": "code",
   "execution_count": 122,
   "metadata": {},
   "outputs": [
    {
     "data": {
      "text/plain": [
       "(array([  2.,   0.,   0.,   1.,   2.,   8.,  14.,  13.,  17.,  26.,  59.,\n",
       "         61.,  95., 103., 123., 148., 204., 198., 217., 247., 243., 238.,\n",
       "        248., 198., 224., 171., 163., 125.,  93.,  78.,  54.,  30.,  32.,\n",
       "         18.,  21.,   8.,   7.,   5.,   3.,   1.,   2.]),\n",
       " array([ 3.62369466,  3.92975454,  4.23581441,  4.54187429,  4.84793417,\n",
       "         5.15399405,  5.46005393,  5.7661138 ,  6.07217368,  6.37823356,\n",
       "         6.68429344,  6.99035332,  7.29641319,  7.60247307,  7.90853295,\n",
       "         8.21459283,  8.52065271,  8.82671259,  9.13277246,  9.43883234,\n",
       "         9.74489222, 10.0509521 , 10.35701198, 10.66307185, 10.96913173,\n",
       "        11.27519161, 11.58125149, 11.88731137, 12.19337124, 12.49943112,\n",
       "        12.805491  , 13.11155088, 13.41761076, 13.72367063, 14.02973051,\n",
       "        14.33579039, 14.64185027, 14.94791015, 15.25397002, 15.5600299 ,\n",
       "        15.86608978, 16.17214966]),\n",
       " <a list of 41 Patch objects>)"
      ]
     },
     "execution_count": 122,
     "metadata": {},
     "output_type": "execute_result"
    },
    {
     "data": {
      "image/png": "[encoded data removed]",
      "text/plain": [
       "<Figure size 1080x360 with 2 Axes>"
      ]
     },
     "metadata": {
      "needs_background": "light"
     },
     "output_type": "display_data"
    }
   ],
   "source": [
    "fig1 = plt.figure(figsize = (15, 5))\n",
    "ax1 = fig1.add_subplot(1, 2, 1)\n",
    "ax2 = fig1.add_subplot(1, 2, 2)\n",
    "\n",
    "ax1.hist(nG1, bins = 'auto')\n",
    "ax2.hist(nG2, bins = 'auto')"
   ]
  },
  {
   "cell_type": "code",
   "execution_count": null,
   "metadata": {},
   "outputs": [],
   "source": []
  }
 ],
 "metadata": {
  "kernelspec": {
   "display_name": "Python 3",
   "language": "python",
   "name": "python3"
  },
  "language_info": {
   "codemirror_mode": {
    "name": "ipython",
    "version": 3
   },
   "file_extension": ".py",
   "mimetype": "text/x-python",
   "name": "python",
   "nbconvert_exporter": "python",
   "pygments_lexer": "ipython3",
   "version": "3.5.2"
  }
 },
 "nbformat": 4,
 "nbformat_minor": 2
}
